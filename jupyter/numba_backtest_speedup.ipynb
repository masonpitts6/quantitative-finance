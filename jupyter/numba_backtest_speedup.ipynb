{
 "cells": [
  {
   "cell_type": "code",
   "execution_count": 1,
   "id": "initial_id",
   "metadata": {
    "collapsed": true,
    "ExecuteTime": {
     "end_time": "2024-01-03T20:48:37.445243400Z",
     "start_time": "2024-01-03T20:48:32.570561500Z"
    }
   },
   "outputs": [],
   "source": [
    "import numpy as np\n",
    "import pandas as pd\n",
    "import numba\n",
    "import time\n",
    "import yfinance as yf\n",
    "import matplotlib.pyplot as plt"
   ]
  },
  {
   "cell_type": "code",
   "outputs": [
    {
     "name": "stdout",
     "output_type": "stream",
     "text": [
      "[*********************100%%**********************]  4 of 4 completed\n"
     ]
    }
   ],
   "source": [
    "# Define the ticker symbols\n",
    "tickers = [\"SPY\", \"EFA\", \"EEM\", \"AGG\"]\n",
    "\n",
    "# Download historical data from Yahoo Finance\n",
    "data = yf.download(tickers, start=\"2000-01-01\", end=\"2022-12-31\")"
   ],
   "metadata": {
    "collapsed": false,
    "ExecuteTime": {
     "end_time": "2024-01-03T20:48:57.740778900Z",
     "start_time": "2024-01-03T20:48:37.445243400Z"
    }
   },
   "id": "b558543a6ba24356",
   "execution_count": 2
  },
  {
   "cell_type": "code",
   "outputs": [],
   "source": [
    "# Calculate monthly returns\n",
    "returns = data['Adj Close'].pct_change().dropna()\n",
    "\n",
    "# Generate random weights for each month that sum to 1\n",
    "np.random.seed(0)  # for reproducibility\n",
    "number_of_trades = 20\n",
    "random_weights = np.random.rand(number_of_trades, len(tickers))\n",
    "random_weights /= random_weights.sum(axis=1)[:, np.newaxis]\n",
    "\n",
    "weight_dates = np.sort(np.random.choice(returns.index, size=number_of_trades - 1, replace=False))\n",
    "weight_dates = np.insert(weight_dates, 0, returns.index[0])\n",
    "\n",
    "# Create a DataFrame for trades with dates as index and tickers as columns\n",
    "trades = pd.DataFrame(random_weights, columns=tickers, index=weight_dates)\n",
    "\n",
    "trade_dates = trades.index.to_numpy()\n",
    "positions = trades.columns.to_numpy()\n",
    "weights_target_arr = trades.to_numpy()\n",
    "return_dates = returns[positions].index.to_numpy()\n",
    "position_returns_arr = returns[positions].to_numpy()"
   ],
   "metadata": {
    "collapsed": false,
    "ExecuteTime": {
     "end_time": "2024-01-03T20:48:57.766185Z",
     "start_time": "2024-01-03T20:48:57.739779200Z"
    }
   },
   "id": "5f8fddd53ca2a5ea",
   "execution_count": 3
  },
  {
   "cell_type": "code",
   "outputs": [],
   "source": [
    "def trun_backtest(\n",
    "        position_returns_arr,\n",
    "        return_dates,\n",
    "        weights_target_arr,\n",
    "        trade_dates,\n",
    "        drift=True\n",
    "):\n",
    "    if drift:\n",
    "        weights_arr = tcalc_portfolio_drift_weights(\n",
    "            position_returns_arr=position_returns_arr,\n",
    "            return_dates=return_dates,\n",
    "            weights_target_arr=weights_target_arr,\n",
    "            trade_dates=trade_dates\n",
    "        )\n",
    "    else:\n",
    "        weights_arr = weights_target_arr\n",
    "\n",
    "    position_contributions = tcalc_position_return_contributions(\n",
    "        position_returns_arr=position_returns_arr,\n",
    "        weights_arr=weights_arr\n",
    "    )\n",
    "\n",
    "    portfolio_returns = tcalc_portfolio_returns_from_contributions(\n",
    "        position_contributions_arr=position_contributions\n",
    "    )\n",
    "    \n",
    "    cumulative_performance = tcalc_cumulative_performance(\n",
    "        portfolio_returns_arr=portfolio_returns\n",
    "    )\n",
    "\n",
    "    return weights_arr, position_contributions, portfolio_returns, cumulative_performance\n",
    "\n",
    "\n",
    "def tcalc_portfolio_drift_weights(\n",
    "        position_returns_arr,\n",
    "        return_dates,\n",
    "        weights_target_arr,\n",
    "        trade_dates\n",
    "):\n",
    "    weights_arr = np.zeros(position_returns_arr.shape)\n",
    "\n",
    "    trade_date_index = 0\n",
    "    trade_date_length = len(trade_dates)\n",
    "    trade_date = trade_dates[trade_date_index]\n",
    "\n",
    "    for i, date in enumerate(return_dates):\n",
    "\n",
    "        # Check if there is a portfolio trade and execute it\n",
    "        if date == trade_date or i == 0:\n",
    "\n",
    "            new_weight = weights_target_arr[trade_date_index]\n",
    "\n",
    "            if trade_date_index < trade_date_length - 1:\n",
    "                trade_date_index += 1\n",
    "                trade_date = trade_dates[trade_date_index]\n",
    "        else:\n",
    "            # Grow or shrink current weights by previous period's returns. Generates portfolio weight drift.\n",
    "            prev_weights = weights_arr[i - 1]\n",
    "            prev_returns = position_returns_arr[i - 1]\n",
    "            total_return = np.dot(prev_weights, (1 + prev_returns))\n",
    "            new_weight = prev_weights * (1 + prev_returns) / total_return\n",
    "\n",
    "        weights_arr[i] = new_weight\n",
    "\n",
    "    return weights_arr\n",
    "\n",
    "\n",
    "def tcalc_position_return_contributions(\n",
    "        position_returns_arr,\n",
    "        weights_arr,\n",
    "):\n",
    "    weights_arr = weights_arr\n",
    "    position_contributions = weights_arr * position_returns_arr\n",
    "    return position_contributions\n",
    "\n",
    "\n",
    "def tcalc_portfolio_returns_from_contributions(\n",
    "        position_contributions_arr\n",
    "):\n",
    "    portfolio_return = np.sum(position_contributions_arr, axis=1)\n",
    "    return portfolio_return\n",
    "\n",
    "\n",
    "def tcalc_cumulative_performance(\n",
    "        portfolio_returns_arr\n",
    "):\n",
    "    log_returns_arr = np.log(portfolio_returns_arr + 1)\n",
    "    cumulative_performance = np.exp(np.cumsum(log_returns_arr)) - 1\n",
    "    return cumulative_performance"
   ],
   "metadata": {
    "collapsed": false,
    "ExecuteTime": {
     "end_time": "2024-01-03T20:48:57.788558Z",
     "start_time": "2024-01-03T20:48:57.783476700Z"
    }
   },
   "id": "9400431871d0955c",
   "execution_count": 5
  },
  {
   "cell_type": "code",
   "outputs": [],
   "source": [
    "@numba.njit(cache=True)\n",
    "def run_backtest(\n",
    "        position_returns_arr,\n",
    "        return_dates,\n",
    "        weights_target_arr,\n",
    "        trade_dates,\n",
    "        drift=True\n",
    "):\n",
    "    if drift:\n",
    "        weights_arr = calc_portfolio_drift_weights(\n",
    "            position_returns_arr=position_returns_arr,\n",
    "            return_dates=return_dates,\n",
    "            weights_target_arr=weights_target_arr,\n",
    "            trade_dates=trade_dates\n",
    "        )\n",
    "    else:\n",
    "        weights_arr = weights_target_arr\n",
    "\n",
    "    position_contributions = calc_position_return_contributions(\n",
    "        position_returns_arr=position_returns_arr,\n",
    "        weights_arr=weights_arr\n",
    "    )\n",
    "\n",
    "    portfolio_returns = calc_portfolio_returns_from_contributions(\n",
    "        position_contributions_arr=position_contributions\n",
    "    )\n",
    "    \n",
    "    cumulative_performance = calc_cumulative_performance(\n",
    "        portfolio_returns_arr=portfolio_returns\n",
    "    )\n",
    "\n",
    "    return weights_arr, position_contributions, portfolio_returns, cumulative_performance\n",
    "\n",
    "\n",
    "@numba.njit(cache=True)\n",
    "def calc_portfolio_drift_weights(\n",
    "        position_returns_arr,\n",
    "        return_dates,\n",
    "        weights_target_arr,\n",
    "        trade_dates\n",
    "):\n",
    "    weights_arr = np.zeros(position_returns_arr.shape)\n",
    "\n",
    "    trade_date_index = 0\n",
    "    trade_date_length = len(trade_dates)\n",
    "    trade_date = trade_dates[trade_date_index]\n",
    "\n",
    "    for i, date in enumerate(return_dates):\n",
    "\n",
    "        # Check if there is a portfolio trade and execute it\n",
    "        if date == trade_date or i == 0:\n",
    "\n",
    "            new_weight = weights_target_arr[trade_date_index]\n",
    "\n",
    "            if trade_date_index < trade_date_length - 1:\n",
    "                trade_date_index += 1\n",
    "                trade_date = trade_dates[trade_date_index]\n",
    "        else:\n",
    "            # Grow or shrink current weights by previous period's returns. Generates portfolio weight drift.\n",
    "            prev_weights = weights_arr[i - 1]\n",
    "            prev_returns = position_returns_arr[i - 1]\n",
    "            total_return = np.dot(prev_weights, (1 + prev_returns))\n",
    "            new_weight = prev_weights * (1 + prev_returns) / total_return\n",
    "\n",
    "        weights_arr[i] = new_weight\n",
    "\n",
    "    return weights_arr\n",
    "\n",
    "\n",
    "@numba.njit(cache=True)\n",
    "def calc_position_return_contributions(\n",
    "        position_returns_arr,\n",
    "        weights_arr,\n",
    "):\n",
    "    weights_arr = weights_arr\n",
    "    position_contributions = weights_arr * position_returns_arr\n",
    "    return position_contributions\n",
    "\n",
    "\n",
    "@numba.njit(cache=True)\n",
    "def calc_portfolio_returns_from_contributions(\n",
    "        position_contributions_arr\n",
    "):\n",
    "    portfolio_return = np.sum(position_contributions_arr, axis=1)\n",
    "    return portfolio_return\n",
    "\n",
    "\n",
    "@numba.njit(cache=True)\n",
    "def calc_cumulative_performance(\n",
    "        portfolio_returns_arr\n",
    "):\n",
    "    log_returns_arr = np.log(portfolio_returns_arr + 1)\n",
    "    cumulative_performance = np.exp(np.cumsum(log_returns_arr)) - 1\n",
    "    return cumulative_performance"
   ],
   "metadata": {
    "collapsed": false,
    "ExecuteTime": {
     "end_time": "2024-01-03T20:48:57.852784Z",
     "start_time": "2024-01-03T20:48:57.790500700Z"
    }
   },
   "id": "f72e2cf431753387",
   "execution_count": 6
  },
  {
   "cell_type": "code",
   "outputs": [
    {
     "name": "stdout",
     "output_type": "stream",
     "text": [
      "Execution time without Numba: 0.02672 seconds\n",
      "Execution time with Numba: 0.00099945 seconds\n"
     ]
    }
   ],
   "source": [
    "# # Sample data for testing\n",
    "# np.random.seed(0)\n",
    "# position_returns_arr = np.random.rand(1000, 5) - 0.5  # Random returns for 1000 days and 5 assets\n",
    "# return_dates = np.arange(1000)  # Simulated return dates\n",
    "# weights_target_arr = np.abs(np.random.rand(1000, 5))  # Random target weights\n",
    "# weights_target_arr /= weights_target_arr.sum(axis=1)[:, np.newaxis]  # Normalize weights to sum to 1\n",
    "# trade_dates = np.sort(np.random.choice(return_dates, size=100, replace=False))  # Random trade dates\n",
    "\n",
    "# Time the function without Numba\n",
    "start_time = time.time()\n",
    "bt_tuple = trun_backtest(position_returns_arr, return_dates, weights_target_arr, trade_dates)\n",
    "end_time = time.time()\n",
    "print(\"Execution time without Numba: {:.5f} seconds\".format(end_time - start_time))\n",
    "\n",
    "# Time the function with Numba\n",
    "# First call to compile the function\n",
    "run_backtest(position_returns_arr, return_dates, weights_target_arr, trade_dates)\n",
    "\n",
    "# Timing the compiled function\n",
    "start_time = time.time()\n",
    "bt_numba_tuple = run_backtest(position_returns_arr, return_dates, weights_target_arr, trade_dates)\n",
    "end_time = time.time()\n",
    "print(\"Execution time with Numba: {:.8f} seconds\".format(end_time - start_time))"
   ],
   "metadata": {
    "collapsed": false,
    "ExecuteTime": {
     "end_time": "2024-01-03T20:49:16.503111800Z",
     "start_time": "2024-01-03T20:49:16.468420300Z"
    }
   },
   "id": "f41a2b9a8328328e",
   "execution_count": 14
  },
  {
   "cell_type": "code",
   "outputs": [
    {
     "data": {
      "text/plain": "[<matplotlib.lines.Line2D at 0x1b710b22850>]"
     },
     "execution_count": 15,
     "metadata": {},
     "output_type": "execute_result"
    },
    {
     "data": {
      "text/plain": "<Figure size 640x480 with 1 Axes>",
      "image/png": "[encoded data removed]"
     },
     "metadata": {},
     "output_type": "display_data"
    }
   ],
   "source": [
    "plt.plot(bt_numba_tuple[3])"
   ],
   "metadata": {
    "collapsed": false,
    "ExecuteTime": {
     "end_time": "2024-01-03T20:49:17.759490200Z",
     "start_time": "2024-01-03T20:49:17.681856200Z"
    }
   },
   "id": "2c4e12963457f4e4",
   "execution_count": 15
  },
  {
   "cell_type": "code",
   "outputs": [],
   "source": [],
   "metadata": {
    "collapsed": false,
    "ExecuteTime": {
     "end_time": "2024-01-03T20:49:03.101269200Z",
     "start_time": "2024-01-03T20:49:03.096849500Z"
    }
   },
   "id": "1c0e557729c4fdcd",
   "execution_count": 8
  }
 ],
 "metadata": {
  "kernelspec": {
   "display_name": "Python 3",
   "language": "python",
   "name": "python3"
  },
  "language_info": {
   "codemirror_mode": {
    "name": "ipython",
    "version": 2
   },
   "file_extension": ".py",
   "mimetype": "text/x-python",
   "name": "python",
   "nbconvert_exporter": "python",
   "pygments_lexer": "ipython2",
   "version": "2.7.6"
  }
 },
 "nbformat": 4,
 "nbformat_minor": 5
}
