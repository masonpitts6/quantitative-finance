{
 "cells": [
  {
   "cell_type": "code",
   "execution_count": 1,
   "id": "initial_id",
   "metadata": {
    "collapsed": true,
    "ExecuteTime": {
     "end_time": "2024-01-08T20:53:37.490161300Z",
     "start_time": "2024-01-08T20:53:29.214124400Z"
    }
   },
   "outputs": [],
   "source": [
    "import pandas as pd\n",
    "import numpy as np\n",
    "import numba\n",
    "import time\n",
    "import yfinance as yf\n",
    "import matplotlib.pyplot as plt\n",
    "from quantitative_finance.portfolio.portfolio import Portfolio"
   ]
  },
  {
   "cell_type": "code",
   "outputs": [
    {
     "name": "stdout",
     "output_type": "stream",
     "text": [
      "[*********************100%%**********************]  4 of 4 completed\n"
     ]
    }
   ],
   "source": [
    "# Define the ticker symbols\n",
    "tickers = [\"SPY\", \"EFA\", \"EEM\", \"AGG\"]\n",
    "\n",
    "# Download historical data from Yahoo Finance\n",
    "data = yf.download(tickers, start=\"2000-01-01\", end=\"2022-12-31\")"
   ],
   "metadata": {
    "collapsed": false,
    "ExecuteTime": {
     "end_time": "2024-01-08T20:53:54.249862200Z",
     "start_time": "2024-01-08T20:53:32.422750900Z"
    }
   },
   "id": "8601d272192b673",
   "execution_count": 2
  },
  {
   "cell_type": "code",
   "outputs": [],
   "source": [
    "# Calculate monthly returns\n",
    "returns = data['Adj Close'].pct_change().dropna()\n",
    "\n",
    "# Generate random weights for each month that sum to 1\n",
    "np.random.seed(0)  # for reproducibility\n",
    "number_of_trades = 20\n",
    "random_weights = np.random.rand(number_of_trades, len(tickers))\n",
    "random_weights /= random_weights.sum(axis=1)[:, np.newaxis]\n",
    "\n",
    "weight_dates = np.sort(np.random.choice(returns.index, size=number_of_trades - 1, replace=False))\n",
    "weight_dates = np.insert(weight_dates, 0, returns.index[0])\n",
    "\n",
    "# Create a DataFrame for trades with dates as index and tickers as columns\n",
    "trades = pd.DataFrame(random_weights, columns=tickers, index=weight_dates)\n",
    "\n",
    "trade_dates = trades.index.to_numpy()\n",
    "positions = trades.columns.to_numpy()\n",
    "weights_target_arr = trades.to_numpy()\n",
    "return_dates = returns[positions].index.to_numpy()\n",
    "position_returns_arr = returns[positions].to_numpy()"
   ],
   "metadata": {
    "collapsed": false,
    "ExecuteTime": {
     "end_time": "2024-01-08T20:53:54.259287400Z",
     "start_time": "2024-01-08T20:53:54.249862200Z"
    }
   },
   "id": "4053803e9a40a8b",
   "execution_count": 3
  },
  {
   "cell_type": "code",
   "outputs": [],
   "source": [
    "port = Portfolio(\n",
    "    position_returns=returns[positions],\n",
    "    positions=positions,\n",
    "    weights_target=trades\n",
    ")"
   ],
   "metadata": {
    "collapsed": false,
    "ExecuteTime": {
     "end_time": "2024-01-08T20:53:55.104151200Z",
     "start_time": "2024-01-08T20:53:54.260289100Z"
    }
   },
   "id": "f0799cc60c9eed49",
   "execution_count": 4
  },
  {
   "cell_type": "code",
   "outputs": [
    {
     "data": {
      "text/plain": "[<matplotlib.lines.Line2D at 0x29a370f0190>]"
     },
     "execution_count": 6,
     "metadata": {},
     "output_type": "execute_result"
    },
    {
     "data": {
      "text/plain": "<Figure size 640x480 with 1 Axes>",
      "image/png": "[encoded data removed]"
     },
     "metadata": {},
     "output_type": "display_data"
    }
   ],
   "source": [
    "plt.plot(port.backtest.cumulative_performance_arr)"
   ],
   "metadata": {
    "collapsed": false,
    "ExecuteTime": {
     "end_time": "2024-01-08T20:57:08.979278700Z",
     "start_time": "2024-01-08T20:57:08.894169600Z"
    }
   },
   "id": "6e8df3ac1da7ecf2",
   "execution_count": 6
  },
  {
   "cell_type": "code",
   "outputs": [],
   "source": [
    "@numba.njit(cache=True)\n",
    "def calc_cumulative_performance(\n",
    "        portfolio_returns_arr\n",
    "):\n",
    "    log_returns_arr = np.log(portfolio_returns_arr + 1)\n",
    "    cumulative_performance = np.exp(np.cumsum(log_returns_arr)) - 1\n",
    "    return cumulative_performance"
   ],
   "metadata": {
    "collapsed": false
   },
   "id": "d141151835b2222"
  },
  {
   "cell_type": "code",
   "outputs": [],
   "source": [
    "import numpy as np\n",
    "import pandas as pd\n",
    "from typing import Optional, Union\n",
    "from collections import OrderedDict\n",
    "\n",
    "DAYS_OF_YEAR = 365.25\n",
    "MONTHS_OF_YEAR = 12\n",
    "QUARTERS_OF_YEAR = 4\n",
    "\n",
    "\n",
    "def calc_period_dates(\n",
    "        portfolio_dates: np.ndarray,\n",
    "        periods: Optional[OrderedDict[str, Union[float, None]]] = None,\n",
    "        return_frequency: str = 'M',\n",
    "        fixed_start: bool = False\n",
    ") -> OrderedDict[str, OrderedDict[str, Union[tuple, tuple]]]:\n",
    "    if return_frequency not in ['D', 'M']:\n",
    "        raise ValueError(\"return_frequency must be either 'D' or 'M'.\")\n",
    "\n",
    "    if periods is None:\n",
    "        periods = _default_periods()\n",
    "\n",
    "    adjusted_periods = _adjust_periods(\n",
    "        periods,\n",
    "        return_frequency\n",
    "    )\n",
    "    return _calculate_period_dates(\n",
    "        portfolio_dates,\n",
    "        adjusted_periods,\n",
    "        return_frequency,\n",
    "        fixed_start\n",
    "    )\n",
    "\n",
    "\n",
    "def _default_periods() -> OrderedDict[str, Optional[float]]:\n",
    "    return OrderedDict([\n",
    "        (\"1M\", 1 / 12),\n",
    "        (\"3M\", 3 / 12),\n",
    "        (\"6M\", 6 / 12),\n",
    "        (\"YTD\", None),\n",
    "        (\"1Y\", 1),\n",
    "        (\"2Y\", 2),\n",
    "        (\"3Y\", 3),\n",
    "        (\"5Y\", 5),\n",
    "        (\"7Y\", 7),\n",
    "        (\"10Y\", 10),\n",
    "        (\"15Y\", 15),\n",
    "        (\"20Y\", 20),\n",
    "        (\"Inception\", None)\n",
    "    ])\n",
    "\n",
    "\n",
    "def _adjust_periods(\n",
    "        periods: OrderedDict[str, Optional[float]],\n",
    "        return_frequency: str\n",
    ") -> OrderedDict[str, Optional[float]]:\n",
    "    factor = DAYS_OF_YEAR if return_frequency == 'D' else MONTHS_OF_YEAR\n",
    "    return OrderedDict((k, v * factor if v is not None else None) for k, v in periods.items())\n",
    "\n",
    "\n",
    "def _calculate_period_dates(\n",
    "        portfolio_dates: np.ndarray,\n",
    "        periods: OrderedDict[str, Optional[float]],\n",
    "        return_frequency: str,\n",
    "        fixed_start: bool\n",
    ") -> OrderedDict[str, OrderedDict[str, Union[tuple, tuple]]]:\n",
    "    period_dates = OrderedDict()\n",
    "    start_date = portfolio_dates[0]\n",
    "    start_date = pd.Timestamp(start_date)\n",
    "    end_date = portfolio_dates[-1]\n",
    "    end_date = pd.Timestamp(end_date)\n",
    "\n",
    "    for period_name, period_length in periods.items():\n",
    "        date_offset = _get_date_offset(period_length, return_frequency) if period_length is not None else None\n",
    "\n",
    "        if period_name in ['Inception', 'YTD']:\n",
    "            if period_name == 'Inception':\n",
    "                calculated_start_date = start_date\n",
    "            else:\n",
    "                calculated_start_date = _find_closest_date_and_index(\n",
    "                    dates=portfolio_dates,\n",
    "                    target_date=pd.Timestamp(f'{end_date.year}-01-01')\n",
    "                )[0]\n",
    "            calculated_end_date = end_date\n",
    "        else:\n",
    "            calculated_end_date = start_date + date_offset if fixed_start else end_date\n",
    "            calculated_start_date = end_date - date_offset if not fixed_start else start_date\n",
    "\n",
    "        closest_start_date, start_index = _find_closest_date_and_index(\n",
    "            dates=portfolio_dates,\n",
    "            target_date=calculated_start_date\n",
    "        )\n",
    "        closest_end_date, end_index = _find_closest_date_and_index(\n",
    "            dates=portfolio_dates,\n",
    "            target_date=calculated_end_date\n",
    "        )\n",
    "\n",
    "        period_dates[period_name] = OrderedDict([\n",
    "            ('Dates', (closest_start_date, closest_end_date)),\n",
    "            ('Indices', (start_index, end_index))\n",
    "        ])\n",
    "\n",
    "    return period_dates\n",
    "\n",
    "\n",
    "def _find_closest_date_and_index(dates: np.ndarray, target_date: pd.Timestamp) -> tuple:\n",
    "    dates = pd.to_datetime(dates)\n",
    "    closest_date_idx = np.argmin(np.abs(dates - target_date))\n",
    "    return dates[closest_date_idx], closest_date_idx\n",
    "\n",
    "\n",
    "def _get_date_offset(\n",
    "        period_length: Optional[float],\n",
    "        return_frequency: str\n",
    ") -> pd.Timestamp:\n",
    "    \"\"\"\n",
    "    Calculates the start date from the end date and period length.\n",
    "    ...\n",
    "    \"\"\"\n",
    "    if period_length is None:\n",
    "        raise ValueError(\"Period length cannot be None for calculating start date.\")\n",
    "\n",
    "    offset_int = int(period_length)\n",
    "\n",
    "    if return_frequency == 'D':\n",
    "        date_offset = pd.DateOffset(days=offset_int)\n",
    "    elif return_frequency == 'M':\n",
    "        date_offset = pd.DateOffset(months=offset_int)\n",
    "    else:\n",
    "        date_offset = None\n",
    "\n",
    "    return date_offset\n",
    "\n",
    "\n"
   ],
   "metadata": {
    "collapsed": false,
    "ExecuteTime": {
     "end_time": "2024-01-09T02:46:53.761102800Z",
     "start_time": "2024-01-09T02:46:53.751829600Z"
    }
   },
   "id": "445744f45a71bc34",
   "execution_count": 127
  },
  {
   "cell_type": "code",
   "outputs": [
    {
     "data": {
      "text/plain": "Timestamp('2003-09-30 00:00:00')"
     },
     "execution_count": 128,
     "metadata": {},
     "output_type": "execute_result"
    }
   ],
   "source": [
    "returns.index[0]"
   ],
   "metadata": {
    "collapsed": false,
    "ExecuteTime": {
     "end_time": "2024-01-09T02:46:54.396129900Z",
     "start_time": "2024-01-09T02:46:54.383028800Z"
    }
   },
   "id": "5408d4801681ae33",
   "execution_count": 128
  },
  {
   "cell_type": "code",
   "outputs": [
    {
     "data": {
      "text/plain": "True"
     },
     "execution_count": 129,
     "metadata": {},
     "output_type": "execute_result"
    }
   ],
   "source": [
    "returns.index.values[0] == returns.index[0]"
   ],
   "metadata": {
    "collapsed": false,
    "ExecuteTime": {
     "end_time": "2024-01-09T02:46:54.861957500Z",
     "start_time": "2024-01-09T02:46:54.849910900Z"
    }
   },
   "id": "5a31063191380d3d",
   "execution_count": 129
  },
  {
   "cell_type": "code",
   "outputs": [],
   "source": [
    "period_dict = calc_period_dates(\n",
    "    portfolio_dates=returns.index.values,\n",
    "    return_frequency='M',\n",
    "    fixed_start=False\n",
    ")"
   ],
   "metadata": {
    "collapsed": false,
    "ExecuteTime": {
     "end_time": "2024-01-09T02:52:19.874795100Z",
     "start_time": "2024-01-09T02:52:19.850575200Z"
    }
   },
   "id": "2b9eacb41dea357b",
   "execution_count": 134
  },
  {
   "cell_type": "code",
   "outputs": [
    {
     "data": {
      "text/plain": "OrderedDict([('1M',\n              OrderedDict([('Dates',\n                            (Timestamp('2022-11-30 00:00:00'),\n                             Timestamp('2022-12-30 00:00:00'))),\n                           ('Indices', (4826, 4847))])),\n             ('3M',\n              OrderedDict([('Dates',\n                            (Timestamp('2022-09-30 00:00:00'),\n                             Timestamp('2022-12-30 00:00:00'))),\n                           ('Indices', (4784, 4847))])),\n             ('6M',\n              OrderedDict([('Dates',\n                            (Timestamp('2022-06-30 00:00:00'),\n                             Timestamp('2022-12-30 00:00:00'))),\n                           ('Indices', (4720, 4847))])),\n             ('YTD',\n              OrderedDict([('Dates',\n                            (Timestamp('2021-12-31 00:00:00'),\n                             Timestamp('2022-12-30 00:00:00'))),\n                           ('Indices', (4596, 4847))])),\n             ('1Y',\n              OrderedDict([('Dates',\n                            (Timestamp('2021-12-30 00:00:00'),\n                             Timestamp('2022-12-30 00:00:00'))),\n                           ('Indices', (4595, 4847))])),\n             ('2Y',\n              OrderedDict([('Dates',\n                            (Timestamp('2020-12-30 00:00:00'),\n                             Timestamp('2022-12-30 00:00:00'))),\n                           ('Indices', (4343, 4847))])),\n             ('3Y',\n              OrderedDict([('Dates',\n                            (Timestamp('2019-12-30 00:00:00'),\n                             Timestamp('2022-12-30 00:00:00'))),\n                           ('Indices', (4090, 4847))])),\n             ('5Y',\n              OrderedDict([('Dates',\n                            (Timestamp('2017-12-29 00:00:00'),\n                             Timestamp('2022-12-30 00:00:00'))),\n                           ('Indices', (3588, 4847))])),\n             ('7Y',\n              OrderedDict([('Dates',\n                            (Timestamp('2015-12-30 00:00:00'),\n                             Timestamp('2022-12-30 00:00:00'))),\n                           ('Indices', (3084, 4847))])),\n             ('10Y',\n              OrderedDict([('Dates',\n                            (Timestamp('2012-12-31 00:00:00'),\n                             Timestamp('2022-12-30 00:00:00'))),\n                           ('Indices', (2329, 4847))])),\n             ('15Y',\n              OrderedDict([('Dates',\n                            (Timestamp('2007-12-31 00:00:00'),\n                             Timestamp('2022-12-30 00:00:00'))),\n                           ('Indices', (1070, 4847))])),\n             ('20Y',\n              OrderedDict([('Dates',\n                            (Timestamp('2003-09-30 00:00:00'),\n                             Timestamp('2022-12-30 00:00:00'))),\n                           ('Indices', (0, 4847))])),\n             ('Inception',\n              OrderedDict([('Dates',\n                            (Timestamp('2003-09-30 00:00:00'),\n                             Timestamp('2022-12-30 00:00:00'))),\n                           ('Indices', (0, 4847))]))])"
     },
     "execution_count": 135,
     "metadata": {},
     "output_type": "execute_result"
    }
   ],
   "source": [
    "period_dict"
   ],
   "metadata": {
    "collapsed": false,
    "ExecuteTime": {
     "end_time": "2024-01-09T02:52:20.256062800Z",
     "start_time": "2024-01-09T02:52:20.247037400Z"
    }
   },
   "id": "c9c8761c101ffbdb",
   "execution_count": 135
  }
 ],
 "metadata": {
  "kernelspec": {
   "display_name": "Python 3",
   "language": "python",
   "name": "python3"
  },
  "language_info": {
   "codemirror_mode": {
    "name": "ipython",
    "version": 2
   },
   "file_extension": ".py",
   "mimetype": "text/x-python",
   "name": "python",
   "nbconvert_exporter": "python",
   "pygments_lexer": "ipython2",
   "version": "2.7.6"
  }
 },
 "nbformat": 4,
 "nbformat_minor": 5
}
