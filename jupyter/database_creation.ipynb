{
 "cells": [
  {
   "cell_type": "code",
   "execution_count": 16,
   "id": "initial_id",
   "metadata": {
    "collapsed": true,
    "ExecuteTime": {
     "end_time": "2023-12-31T21:09:24.579546300Z",
     "start_time": "2023-12-31T21:09:24.575051600Z"
    }
   },
   "outputs": [],
   "source": [
    "import os\n",
    "import sqlite3\n",
    "from sqlite3 import Error\n",
    "\n",
    "\n",
    "def create_sqlite_connection(db_file):\n",
    "    \"\"\" create a database connection to a SQLite database \"\"\"\n",
    "    conn = None\n",
    "    try:\n",
    "        conn = sqlite3.connect(db_file)\n",
    "        print(sqlite3.version)\n",
    "    except Error as e:\n",
    "        print(e)\n",
    "    return conn\n",
    "\n",
    "\n",
    "def create_file_path(\n",
    "        directory=None,\n",
    "        file_name=None,\n",
    "        directory_environ=None,\n",
    "        file_name_environ=None\n",
    "):\n",
    "    directory = os.environ.get(directory_environ, directory) if directory_environ else directory\n",
    "    file_name = os.environ.get(file_name_environ, file_name) if file_name_environ else file_name\n",
    "    path = os.path.join(directory, file_name)\n",
    "    return path"
   ]
  },
  {
   "cell_type": "code",
   "outputs": [],
   "source": [
    "db_path = create_file_path(directory_environ=\"DATABASE_PATH\", file_name=\"quant_finance.db\")\n",
    "connection =create_sqlite_connection(db_path)"
   ],
   "metadata": {
    "collapsed": false,
    "ExecuteTime": {
     "end_time": "2023-12-31T21:09:25.359041200Z",
     "start_time": "2023-12-31T21:09:25.356409600Z"
    }
   },
   "id": "2bcf420c0797518a",
   "execution_count": 17
  },
  {
   "cell_type": "code",
   "outputs": [],
   "source": [
    "cursor = connection.cursor()\n",
    "\n",
    "command_list = [\n",
    "    \"\"\"CREATE TABLE IF NOT EXISTS stores(store_id INTEGER PRIMARY KEY, location TEXT)\"\"\",\n",
    "]\n",
    "\n",
    "for idx, command in enumerate(command_list):\n",
    "    cursor.execute(command_list)\n",
    "\n",
    "connection.commit()"
   ],
   "metadata": {
    "collapsed": false
   },
   "id": "96776fa9efa645"
  }
 ],
 "metadata": {
  "kernelspec": {
   "display_name": "Python 3",
   "language": "python",
   "name": "python3"
  },
  "language_info": {
   "codemirror_mode": {
    "name": "ipython",
    "version": 2
   },
   "file_extension": ".py",
   "mimetype": "text/x-python",
   "name": "python",
   "nbconvert_exporter": "python",
   "pygments_lexer": "ipython2",
   "version": "2.7.6"
  }
 },
 "nbformat": 4,
 "nbformat_minor": 5
}
